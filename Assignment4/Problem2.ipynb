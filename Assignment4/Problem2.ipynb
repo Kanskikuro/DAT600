{
 "cells": [
  {
   "cell_type": "code",
   "execution_count": null,
   "metadata": {},
   "outputs": [],
   "source": [
    "import networkx as nx"
   ]
  },
  {
   "cell_type": "code",
   "execution_count": 2,
   "metadata": {},
   "outputs": [],
   "source": [
    "# Create a directed graph\n",
    "G = nx.DiGraph()\n",
    "\n",
    "# Add edges with capacities\n",
    "edges = [\n",
    "    (\"s\", \"v1\", 14), (\"s\", \"v2\", 25),\n",
    "    (\"v1\", \"v3\", 3), (\"v3\", \"v1\", 6),\n",
    "    (\"v1\", \"v4\", 21), (\"v2\", \"v3\", 13),\n",
    "    (\"v2\", \"v5\", 7), (\"v3\", \"v4\", 10),\n",
    "    (\"v3\", \"v5\", 15), (\"v4\", \"t\", 20),\n",
    "    (\"v5\", \"v4\", 5), (\"v5\", \"t\", 10)\n",
    "]\n",
    "\n",
    "for u, v, cap in edges:\n",
    "    G.add_edge(u, v, capacity=cap)"
   ]
  },
  {
   "cell_type": "code",
   "execution_count": 8,
   "metadata": {},
   "outputs": [
    {
     "name": "stdout",
     "output_type": "stream",
     "text": [
      "The value of the bottleneck network cut is: 30\n",
      "The bottleneck network cut is: \n",
      "\tcut A: {'v5', 'v3', 'v4', 's', 'v2', 'v1'}\n",
      "and\n",
      "\tcut B: {'t'}\n"
     ]
    }
   ],
   "source": [
    "# Compute the minimum cut\n",
    "value, cut = nx.minimum_cut(G, \"s\", \"t\")\n",
    "\n",
    "# Print the results\n",
    "print(f\"The value of the bottleneck network cut is: {value}\")\n",
    "print(f\"The bottleneck network cut is: \\n\\tcut A: {cut[0]}\\nand\\n\\tcut B: {cut[1]}\")"
   ]
  },
  {
   "cell_type": "code",
   "execution_count": 9,
   "metadata": {},
   "outputs": [
    {
     "name": "stdout",
     "output_type": "stream",
     "text": [
      "The maximum flow from s to t is: 30\n",
      "Flow at each edge:\n",
      "  (s -> v1): 10/14\n",
      "  (s -> v2): 20/25\n",
      "  (v1 -> v3): 0/3\n",
      "  (v1 -> v4): 11/21\n",
      "  (v2 -> v3): 13/13\n",
      "  (v2 -> v5): 7/7\n",
      "  (v3 -> v1): 1/6\n",
      "  (v3 -> v4): 9/10\n",
      "  (v3 -> v5): 3/15\n",
      "  (v4 -> t): 20/20\n",
      "  (v5 -> v4): 0/5\n",
      "  (v5 -> t): 10/10\n"
     ]
    }
   ],
   "source": [
    "flow_value, flow_dict = nx.maximum_flow(G, \"s\", \"t\")\n",
    "\n",
    "# Print the results\n",
    "print(f\"The maximum flow from s to t is: {flow_value}\")\n",
    "print(\"Flow at each edge:\")\n",
    "for u, v in G.edges():\n",
    "    print(f\"  ({u} -> {v}): {flow_dict[u][v]}/{G[u][v]['capacity']}\")"
   ]
  }
 ],
 "metadata": {
  "kernelspec": {
   "display_name": "venv",
   "language": "python",
   "name": "python3"
  },
  "language_info": {
   "codemirror_mode": {
    "name": "ipython",
    "version": 3
   },
   "file_extension": ".py",
   "mimetype": "text/x-python",
   "name": "python",
   "nbconvert_exporter": "python",
   "pygments_lexer": "ipython3",
   "version": "3.11.9"
  }
 },
 "nbformat": 4,
 "nbformat_minor": 2
}
