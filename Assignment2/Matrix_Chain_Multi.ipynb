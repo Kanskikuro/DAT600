{
 "cells": [
  {
   "cell_type": "code",
   "execution_count": 19,
   "metadata": {},
   "outputs": [],
   "source": [
    "import sys\n",
    "\n",
    "def matrix_chain_order(p):\n",
    "    n = len(p) - 1  # Number of matrices\n",
    "    m = [[0] * (n + 1) for _ in range(n + 1)]  # Cost table\n",
    "    s = [[0] * (n + 1) for _ in range(n + 1)]  # Split table\n",
    "    \n",
    "    for l in range(2, n + 1):  # l is the chain length\n",
    "        for i in range(1, n - l + 2):\n",
    "            j = i + l - 1\n",
    "            m[i][j] = sys.maxsize  # Initialize with infinity\n",
    "            for k in range(i, j):\n",
    "                q = m[i][k] + m[k + 1][j] + p[i - 1] * p[k] * p[j]\n",
    "                if q < m[i][j]:\n",
    "                    m[i][j] = q\n",
    "                    s[i][j] = k\n",
    "    \n",
    "    return m, s"
   ]
  },
  {
   "cell_type": "code",
   "execution_count": 26,
   "metadata": {},
   "outputs": [],
   "source": [
    "def print_optimal_parens(s, i, j):\n",
    "    if i == j:\n",
    "        print(f\"A{i}\", end=\"\")\n",
    "    else:\n",
    "        print(\"(\", end=\"\")\n",
    "        print_optimal_parens(s, i, s[i][j])\n",
    "        print_optimal_parens(s, s[i][j] + 1, j)\n",
    "        print(\")\", end=\"\")"
   ]
  },
  {
   "cell_type": "code",
   "execution_count": 3,
   "metadata": {},
   "outputs": [],
   "source": [
    "def matrix_chain_multiplication(p):\n",
    "    m, s = matrix_chain_order(p)\n",
    "    print(\"Minimum number of multiplications:\", m[1][len(p) - 1])\n",
    "    print(\"Optimal parenthesization:\")\n",
    "    print_optimal_parens(s, 1, len(p) - 1)\n",
    "    print()"
   ]
  },
  {
   "cell_type": "code",
   "execution_count": 27,
   "metadata": {},
   "outputs": [
    {
     "name": "stdout",
     "output_type": "stream",
     "text": [
      "Minimum number of multiplications: 12875\n",
      "Optimal parenthesization:\n",
      "((A1(A2A3))(A4A5))\n"
     ]
    }
   ],
   "source": [
    "p = [30, 35, 15, 5, 10, 25]  # Dimensions\n",
    "matrix_chain_multiplication(p)"
   ]
  }
 ],
 "metadata": {
  "kernelspec": {
   "display_name": "Python 3",
   "language": "python",
   "name": "python3"
  },
  "language_info": {
   "codemirror_mode": {
    "name": "ipython",
    "version": 3
   },
   "file_extension": ".py",
   "mimetype": "text/x-python",
   "name": "python",
   "nbconvert_exporter": "python",
   "pygments_lexer": "ipython3",
   "version": "3.12.9"
  }
 },
 "nbformat": 4,
 "nbformat_minor": 2
}
