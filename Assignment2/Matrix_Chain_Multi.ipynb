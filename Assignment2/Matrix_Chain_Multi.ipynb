{
 "cells": [
  {
   "cell_type": "markdown",
   "metadata": {},
   "source": [
    "2. Implement a dynamic programming program that solves the problem for any number of matrices."
   ]
  },
  {
   "cell_type": "code",
   "execution_count": 19,
   "metadata": {},
   "outputs": [],
   "source": [
    "import sys\n",
    "\n",
    "def matrix_chain_order(p):\n",
    "    n = len(p) - 1  # Number of matrices\n",
    "    m = [[0] * (n + 1) for _ in range(n + 1)]  # Cost table\n",
    "    s = [[0] * (n + 1) for _ in range(n + 1)]  # Split table\n",
    "    \n",
    "    for l in range(2, n + 1):  # l is the chain length\n",
    "        for i in range(1, n - l + 2):\n",
    "            j = i + l - 1\n",
    "            m[i][j] = sys.maxsize  # Initialize with infinity\n",
    "            for k in range(i, j):\n",
    "                q = m[i][k] + m[k + 1][j] + p[i - 1] * p[k] * p[j]\n",
    "                if q < m[i][j]:\n",
    "                    m[i][j] = q\n",
    "                    s[i][j] = k\n",
    "    \n",
    "    return m, s"
   ]
  },
  {
   "cell_type": "code",
   "execution_count": null,
   "metadata": {},
   "outputs": [],
   "source": [
    "def print_optimal_parens(s, i, j):\n",
    "    if i == j:\n",
    "        print(f\"A{i}\", end=\"\")\n",
    "    else:\n",
    "        print(\"(\", end=\"\")\n",
    "        print_optimal_parens(s, i, s[i][j])\n",
    "        print_optimal_parens(s, s[i][j] + 1, j)\n",
    "        print(\")\", end=\"\")"
   ]
  },
  {
   "cell_type": "code",
   "execution_count": 3,
   "metadata": {},
   "outputs": [],
   "source": [
    "def matrix_chain_multiplication(p):\n",
    "    m, s = matrix_chain_order(p)\n",
    "    print(\"Minimum number of multiplications:\", m[1][len(p) - 1])\n",
    "    print(\"Optimal parenthesization:\")\n",
    "    print_optimal_parens(s, 1, len(p) - 1)\n",
    "    print()"
   ]
  },
  {
   "cell_type": "code",
   "execution_count": 33,
   "metadata": {},
   "outputs": [
    {
     "name": "stdout",
     "output_type": "stream",
     "text": [
      "Minimum number of multiplications: 6371646\n",
      "Optimal parenthesization:\n",
      "( ( A1( A2( A3( A4( A5A6)))))( ( ( ( ( ( ( ( ( ( ( ( ( A7A8)A9)A10)A11)A12)A13)A14)A15)A16)A17)A18)A19)A20))\n"
     ]
    }
   ],
   "source": [
    "p = [30, 35, 15, 5, 10, 25]  # Dimensions\n",
    "matrix_chain_multiplication(p)"
   ]
  },
  {
   "cell_type": "markdown",
   "metadata": {},
   "source": [
    "3. Does it exist a greedy choice that could apply to this problem?"
   ]
  },
  {
   "cell_type": "markdown",
   "metadata": {},
   "source": [
    "No, Matrix Chain Multiplication does not have an optimal greedy choice. The reason is that the problem does not exhibit the greedy choice property, which means that making a local optimal choice at each step does not necessarily lead to a globally optimal solution. \n",
    "\n",
    "Matrix Chain Multiplication requires dynamic programming to consider all possible parenthesizations. A greedy choice does not work because the problem depends on future decisions, making it necessary to explore all combinations before committing to an optimal solution."
   ]
  }
 ],
 "metadata": {
  "kernelspec": {
   "display_name": "Python 3",
   "language": "python",
   "name": "python3"
  },
  "language_info": {
   "codemirror_mode": {
    "name": "ipython",
    "version": 3
   },
   "file_extension": ".py",
   "mimetype": "text/x-python",
   "name": "python",
   "nbconvert_exporter": "python",
   "pygments_lexer": "ipython3",
   "version": "3.12.9"
  }
 },
 "nbformat": 4,
 "nbformat_minor": 2
}
